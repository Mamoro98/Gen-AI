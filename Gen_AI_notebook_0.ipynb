{
  "nbformat": 4,
  "nbformat_minor": 0,
  "metadata": {
    "colab": {
      "provenance": [],
      "gpuType": "T4",
      "include_colab_link": true
    },
    "kernelspec": {
      "name": "python3",
      "display_name": "Python 3"
    },
    "language_info": {
      "name": "python"
    },
    "accelerator": "GPU"
  },
  "cells": [
    {
      "cell_type": "markdown",
      "metadata": {
        "id": "view-in-github",
        "colab_type": "text"
      },
      "source": [
        "<a href=\"https://colab.research.google.com/github/Mamoro98/Gen-AI/blob/main/Gen_AI_notebook_0.ipynb\" target=\"_parent\"><img src=\"https://colab.research.google.com/assets/colab-badge.svg\" alt=\"Open In Colab\"/></a>"
      ]
    },
    {
      "cell_type": "markdown",
      "source": [
        "# **Notebook 0**\n",
        "\n",
        "Hi everyone!\n",
        "\n",
        "This is notebook 0, which is mainly here to make sure that\n",
        "\n",
        "1. You can get a colab notebook to run;\n",
        "2. Familiarize you with PyTorch;\n",
        "3. You can find a team-mate for the other notebooks.\n"
      ],
      "metadata": {
        "id": "IOUm2otVNx0t"
      }
    },
    {
      "cell_type": "markdown",
      "source": [
        "## **CPUs and GPUs**\n",
        "\n",
        "First, we need to connect to the GPU.\n",
        "\n",
        "You might wonder: how and why do we use a GPU? The very short answer is the following. As you have seen in your earlier ML/DL course, neural networks are basically a composition of matrix multiplication and simple entry-wise functions. These matrix multiplication can map from very high dimensional spaces into very high dimensional spaces, and as such computing each resulting 'entry' would be extremely slow sequentially.\n",
        "\n",
        "Now, a typical PC has two primary computations devices: a CPU and a GPU. They have (sort of) oposite functionality: a CPU is build to do **difficult computations sequentially**, whereas a GPU is build to do **easy computations in parallel**. As such, GPUs lend themselves perfectly do speed up deep learning computations!\n",
        "\n",
        "Let's connect to the GPU. To do so, please:\n",
        "- In the top right, click 'Connect', and hit 'Connect to a hosted runtime'.\n",
        "- Then, go back in the menu, and hit 'change runtime type. There, make sure to select the GPU.\n",
        "- Then, run the code above. There, we import PyTorch and choose the 'GPU' as our device to compute on."
      ],
      "metadata": {
        "id": "5TJCcjzvOOfX"
      }
    },
    {
      "cell_type": "code",
      "source": [
        "import torch\n",
        "device = torch.device('cuda')  # 'cuda' here means GPU"
      ],
      "metadata": {
        "id": "P9YLwGANN2NQ"
      },
      "execution_count": null,
      "outputs": []
    },
    {
      "cell_type": "code",
      "source": [
        "device"
      ],
      "metadata": {
        "id": "TwZXR5ldJcLC",
        "outputId": "5009a395-ffa8-415f-de78-ff0632490526",
        "colab": {
          "base_uri": "https://localhost:8080/"
        }
      },
      "execution_count": null,
      "outputs": [
        {
          "output_type": "execute_result",
          "data": {
            "text/plain": [
              "device(type='cuda')"
            ]
          },
          "metadata": {},
          "execution_count": 2
        }
      ]
    },
    {
      "cell_type": "markdown",
      "source": [
        "## **Import our Data**\n",
        "\n",
        "Ok! Now; we will load our data. We will use MNIST, which is a classical dataset consisting of images of digits. This we can grab from the torchvision library."
      ],
      "metadata": {
        "id": "a4khJ2b_QRzR"
      }
    },
    {
      "cell_type": "code",
      "source": [
        "import torchvision\n",
        "\n",
        "# Here, we import both the train and test data. The library already made that\n",
        "# split for us, and made sure the sets are disjoint. We add a 'ToTensor()'\n",
        "# transform, so it changes from an 'image' to a 'matrix'.\n",
        "train_dataset = torchvision.datasets.MNIST('dataset/', train=True, download=True, transform=torchvision.transforms.ToTensor())\n",
        "test_dataset = torchvision.datasets.MNIST('dataset/', train=False, download=True, transform=torchvision.transforms.ToTensor())"
      ],
      "metadata": {
        "id": "1ztItJ-aR2uZ",
        "outputId": "50f0817f-93d7-40ab-e0cf-01d68a062342",
        "colab": {
          "base_uri": "https://localhost:8080/"
        }
      },
      "execution_count": null,
      "outputs": [
        {
          "output_type": "stream",
          "name": "stdout",
          "text": [
            "Downloading http://yann.lecun.com/exdb/mnist/train-images-idx3-ubyte.gz\n",
            "Failed to download (trying next):\n",
            "HTTP Error 404: Not Found\n",
            "\n",
            "Downloading https://ossci-datasets.s3.amazonaws.com/mnist/train-images-idx3-ubyte.gz\n",
            "Downloading https://ossci-datasets.s3.amazonaws.com/mnist/train-images-idx3-ubyte.gz to dataset/MNIST/raw/train-images-idx3-ubyte.gz\n"
          ]
        },
        {
          "output_type": "stream",
          "name": "stderr",
          "text": [
            "100%|██████████| 9.91M/9.91M [00:00<00:00, 17.7MB/s]\n"
          ]
        },
        {
          "output_type": "stream",
          "name": "stdout",
          "text": [
            "Extracting dataset/MNIST/raw/train-images-idx3-ubyte.gz to dataset/MNIST/raw\n",
            "\n",
            "Downloading http://yann.lecun.com/exdb/mnist/train-labels-idx1-ubyte.gz\n",
            "Failed to download (trying next):\n",
            "HTTP Error 404: Not Found\n",
            "\n",
            "Downloading https://ossci-datasets.s3.amazonaws.com/mnist/train-labels-idx1-ubyte.gz\n",
            "Downloading https://ossci-datasets.s3.amazonaws.com/mnist/train-labels-idx1-ubyte.gz to dataset/MNIST/raw/train-labels-idx1-ubyte.gz\n"
          ]
        },
        {
          "output_type": "stream",
          "name": "stderr",
          "text": [
            "100%|██████████| 28.9k/28.9k [00:00<00:00, 477kB/s]\n"
          ]
        },
        {
          "output_type": "stream",
          "name": "stdout",
          "text": [
            "Extracting dataset/MNIST/raw/train-labels-idx1-ubyte.gz to dataset/MNIST/raw\n",
            "\n",
            "Downloading http://yann.lecun.com/exdb/mnist/t10k-images-idx3-ubyte.gz\n",
            "Failed to download (trying next):\n",
            "HTTP Error 404: Not Found\n",
            "\n",
            "Downloading https://ossci-datasets.s3.amazonaws.com/mnist/t10k-images-idx3-ubyte.gz\n",
            "Downloading https://ossci-datasets.s3.amazonaws.com/mnist/t10k-images-idx3-ubyte.gz to dataset/MNIST/raw/t10k-images-idx3-ubyte.gz\n"
          ]
        },
        {
          "output_type": "stream",
          "name": "stderr",
          "text": [
            "100%|██████████| 1.65M/1.65M [00:00<00:00, 4.35MB/s]\n"
          ]
        },
        {
          "output_type": "stream",
          "name": "stdout",
          "text": [
            "Extracting dataset/MNIST/raw/t10k-images-idx3-ubyte.gz to dataset/MNIST/raw\n",
            "\n",
            "Downloading http://yann.lecun.com/exdb/mnist/t10k-labels-idx1-ubyte.gz\n",
            "Failed to download (trying next):\n",
            "HTTP Error 404: Not Found\n",
            "\n",
            "Downloading https://ossci-datasets.s3.amazonaws.com/mnist/t10k-labels-idx1-ubyte.gz\n",
            "Downloading https://ossci-datasets.s3.amazonaws.com/mnist/t10k-labels-idx1-ubyte.gz to dataset/MNIST/raw/t10k-labels-idx1-ubyte.gz\n"
          ]
        },
        {
          "output_type": "stream",
          "name": "stderr",
          "text": [
            "100%|██████████| 4.54k/4.54k [00:00<00:00, 9.38MB/s]"
          ]
        },
        {
          "output_type": "stream",
          "name": "stdout",
          "text": [
            "Extracting dataset/MNIST/raw/t10k-labels-idx1-ubyte.gz to dataset/MNIST/raw\n",
            "\n"
          ]
        },
        {
          "output_type": "stream",
          "name": "stderr",
          "text": [
            "\n"
          ]
        }
      ]
    },
    {
      "cell_type": "markdown",
      "source": [
        "Now, we need to create 'dataloaders'. Dataloaders are a tool that take in a dataset, and let's us 'loop over it' by randomly dividing into small batches. As such, we can find a balance between not using all data at the same time (that is too expensive anyway!) but not too few to have very noisy updates. Let's create them here:\n",
        "\n"
      ],
      "metadata": {
        "id": "3aMwsJ_kS54A"
      }
    },
    {
      "cell_type": "code",
      "source": [
        "batch_size = 128\n",
        "\n",
        "train_loader = torch.utils.data.DataLoader(train_dataset, batch_size=batch_size, shuffle=True)\n",
        "test_loader = torch.utils.data.DataLoader(test_dataset, batch_size=batch_size, shuffle=True)"
      ],
      "metadata": {
        "id": "8YNXlchESrJ5"
      },
      "execution_count": null,
      "outputs": []
    },
    {
      "cell_type": "markdown",
      "source": [],
      "metadata": {
        "id": "mLFaJKttVd1g"
      }
    },
    {
      "cell_type": "markdown",
      "source": [
        "Now, let's inspect this object a bit. We will see it consists of pairs $(x, y)$, where $x$ is the datapoint (i.e. the image), and $y$ is the class label. Do the resulting shapes make sense? Dicuss with a colleague!\n",
        "\n",
        "We will also plot the first image in the batch. You can rerun it to see multiple images!"
      ],
      "metadata": {
        "id": "199bMj1tU_Ms"
      }
    },
    {
      "cell_type": "code",
      "source": [
        "import matplotlib.pyplot as plt\n",
        "\n",
        "# let's grab the first batch and visualise the first element in the batch\n",
        "_, (x, y) = next(enumerate(test_loader))\n",
        "sample = x[0][0]\n",
        "plt.imshow(sample, cmap='gray', interpolation='none')\n",
        "print(\"Label: \"+ str(y[0].item()))\n",
        "print(\"Shape:\", x.shape, y.shape)\n"
      ],
      "metadata": {
        "colab": {
          "base_uri": "https://localhost:8080/",
          "height": 465
        },
        "id": "oL4UeaEyTtvE",
        "outputId": "3eb150d0-c161-4c01-8dcf-649c483a6322"
      },
      "execution_count": null,
      "outputs": [
        {
          "output_type": "stream",
          "name": "stdout",
          "text": [
            "Label: 2\n",
            "Shape: torch.Size([128, 1, 28, 28]) torch.Size([128])\n"
          ]
        },
        {
          "output_type": "display_data",
          "data": {
            "text/plain": [
              "<Figure size 640x480 with 1 Axes>"
            ],
            "image/png": "[encoded data removed]"
          },
          "metadata": {}
        }
      ]
    },
    {
      "cell_type": "markdown",
      "source": [
        "Now, there is one subtlety to take care of, currently, the data is set on the CPU - and we would like to move it to the GPU! We can do this as follows."
      ],
      "metadata": {
        "id": "Q7bRQfH1Wo_d"
      }
    },
    {
      "cell_type": "code",
      "source": [
        "print('Device before:', x.device) # still CPU\n",
        "x = x.to(device) # use our 'device' object, which is the GPU\n",
        "print('Device after:', x.device) # now, GPU"
      ],
      "metadata": {
        "colab": {
          "base_uri": "https://localhost:8080/"
        },
        "id": "1i3F6ICnWodQ",
        "outputId": "e197c035-0f3e-4b06-f3f9-6438a323d59e"
      },
      "execution_count": null,
      "outputs": [
        {
          "output_type": "stream",
          "name": "stdout",
          "text": [
            "Device before: cpu\n",
            "Device after: cuda:0\n"
          ]
        }
      ]
    },
    {
      "cell_type": "markdown",
      "source": [
        "Lovely! Now we have our data working, and now how to push it to the GPU. Next, let's create a model!"
      ],
      "metadata": {
        "id": "9osruRhqXLrQ"
      }
    },
    {
      "cell_type": "markdown",
      "source": [
        "## **Defining our model**\n",
        "\n"
      ],
      "metadata": {
        "id": "t8eVS_EfXSaH"
      }
    },
    {
      "cell_type": "markdown",
      "source": [
        "Now, it is your turn! We need a Convolutional Neural Network to do image classification. I already implement the 'forward' pass, but did not add the architecture yet! Talk through the forward function with a colleague to make sure you know what is happening."
      ],
      "metadata": {
        "id": "WGweyXr7YR0o"
      }
    },
    {
      "cell_type": "code",
      "source": [
        "import torch.nn as nn\n",
        "import torch.nn.functional as F\n",
        "\n",
        "class CNN(nn.Module):\n",
        "    def __init__(self):\n",
        "        super(CNN, self).__init__()\n",
        "\n",
        "        # input channel 1, output channel 10, kernel_size 5, stride=1\n",
        "        self.conv1 = nn.Conv2d(1,10,5,1)\n",
        "        # input channel 10, output channel 20, kernel_size 5, stride=1\n",
        "        self.conv2 = nn.Conv2d(10,20,5,1)\n",
        "        # dropout layer\n",
        "        self.conv2_drop = nn.Dropout()\n",
        "        # fully connected layer from 320 --> 50\n",
        "        self.fc1 = nn.Linear(320, 50)\n",
        "        # fully connected layer from 50 --> 10\n",
        "        self.fc2 = nn.Linear(50, 10)\n",
        "\n",
        "    def forward(self, x):\n",
        "        # convolution 1\n",
        "        x = self.conv1(x)\n",
        "        x = F.max_pool2d(x, 2)\n",
        "        x = F.relu(x)\n",
        "\n",
        "        # convolution 2\n",
        "        x = self.conv2(x)\n",
        "        x = self.conv2_drop(x)\n",
        "        x = F.max_pool2d(x, 2)\n",
        "        x = F.relu(x)\n",
        "\n",
        "        # linear fully connected layers\n",
        "        x = x.view(-1, 320)\n",
        "        x = self.fc1(x)\n",
        "        x = F.relu(x)\n",
        "        x = F.dropout(x)\n",
        "        x = self.fc2(x)\n",
        "        return F.log_softmax(x)"
      ],
      "metadata": {
        "id": "2BQxRv0mXVbB"
      },
      "execution_count": null,
      "outputs": []
    },
    {
      "cell_type": "code",
      "source": [],
      "metadata": {
        "id": "xwM0Oi4ra0EQ"
      },
      "execution_count": null,
      "outputs": []
    },
    {
      "cell_type": "markdown",
      "source": [
        "Now, let's train this thing! I already found some hyper parameters that work. Let's first define our model, and then our optimizer. The role of the optimizer is the do the actual gradient updates of the model. Don't forget to put the model on the GPU :)!\n",
        "\n"
      ],
      "metadata": {
        "id": "dqe0Lr5Ga-3P"
      }
    },
    {
      "cell_type": "code",
      "source": [
        "import torch.optim as optim\n",
        "\n",
        "model = CNN()\n",
        "model.to(device)\n",
        "optimizer = optim.SGD(model.parameters(), lr=0.01, momentum=0.5)"
      ],
      "metadata": {
        "id": "4sqTfQ4UaHuC"
      },
      "execution_count": null,
      "outputs": []
    },
    {
      "cell_type": "markdown",
      "source": [
        "Now, it's time to create the actually training and evaluation loop.\n",
        "\n",
        "I want to compute per epoch how many prediction we have correct, please add that in the code where asked to!"
      ],
      "metadata": {
        "id": "UVkmqSAucKQb"
      }
    },
    {
      "cell_type": "code",
      "source": [
        "def train(model, device, train_loader, optimizer, epoch):\n",
        "    # Set the model to training mode (enables dropout, batch normalization, etc.)\n",
        "    model.train()\n",
        "\n",
        "    # Track cumulative loss for this epoch\n",
        "    total_loss = 0\n",
        "    total_samples = 0\n",
        "\n",
        "    # Iterate through batches of data\n",
        "    for batch_idx, (data, target) in enumerate(train_loader):\n",
        "        # Move data to the specified device (CPU or GPU)\n",
        "        data, target = data.to(device), target.to(device)\n",
        "\n",
        "        # Clear gradients from previous iteration\n",
        "        optimizer.zero_grad()\n",
        "\n",
        "        # Forward pass: compute model predictions\n",
        "        output = model(data)\n",
        "\n",
        "        # Calculate loss between predictions and targets\n",
        "        # using negative log-likelihood loss (common for classification)\n",
        "        loss = F.nll_loss(output, target)\n",
        "\n",
        "        # Backward pass: compute gradients of the loss w.r.t. model parameters\n",
        "        loss.backward()\n",
        "\n",
        "        # Update model parameters based on computed gradients\n",
        "        optimizer.step()\n",
        "\n",
        "        # Accumulate loss and count samples\n",
        "        total_loss += loss.item() * data.size(0)\n",
        "        total_samples += data.size(0)\n",
        "\n",
        "    # Calculate and print average loss for the entire epoch\n",
        "    avg_loss = total_loss / total_samples\n",
        "    print(f'Train Epoch: {epoch} completed\\tAverage Loss: {avg_loss:.6f}')\n",
        "\n",
        "def test(model, device, test_loader):\n",
        "    # Set the model to evaluation mode (disables dropout, uses running stats for batch norm)\n",
        "    model.eval()\n",
        "\n",
        "    # Initialize metrics\n",
        "    test_loss = 0\n",
        "    correct = 0\n",
        "\n",
        "    # Disable gradient computation for efficiency during inference\n",
        "    with torch.no_grad():\n",
        "        # Iterate through batches of test data\n",
        "        for data, target in test_loader:\n",
        "            # Move data to the specified device (CPU or GPU)\n",
        "            data, target = data.to(device), target.to(device)\n",
        "\n",
        "            # Forward pass: compute model predictions\n",
        "            output = model(data)\n",
        "\n",
        "            # Accumulate the sum of losses for all batches\n",
        "            # reduction='sum' ensures we're summing, not averaging within this batch\n",
        "            test_loss += F.nll_loss(output, target, reduction='sum').item()\n",
        "\n",
        "            # Find the index of the max log-probability (predicted class)\n",
        "            pred = output.argmax(dim=1, keepdim=True)\n",
        "\n",
        "            # TODO: IMPLEMENT THIS - Count the number of correct predictions\n",
        "            # Hint: Compare predictions (pred) with targets and sum the matches\n",
        "\n",
        "            m = (pred == target.view_as(pred)).sum()\n",
        "            correct = correct + m.item()\n",
        "\n",
        "    # Normalize the total loss by the dataset size\n",
        "    test_loss /= len(test_loader.dataset)\n",
        "\n",
        "    # Print test results\n",
        "    print('\\nTest set: Average loss: {:.4f}, Accuracy: {}/{} ({:.0f}%)\\n'.format(\n",
        "        test_loss, correct, len(test_loader.dataset),\n",
        "        100. * correct / len(test_loader.dataset)))"
      ],
      "metadata": {
        "id": "XFN-G8c1cJxw"
      },
      "execution_count": null,
      "outputs": []
    },
    {
      "cell_type": "markdown",
      "source": [
        "Now, train the model for 5 epochs. You should get an accuracy of around 90%!"
      ],
      "metadata": {
        "id": "Jn_M9pu0dzPh"
      }
    },
    {
      "cell_type": "code",
      "source": [
        "# Do it here!\n",
        "\n",
        "for epoch in range(1, 6):\n",
        "  train(model, device, train_loader, optimizer, epoch)\n",
        "  test(model, device, test_loader)"
      ],
      "metadata": {
        "colab": {
          "base_uri": "https://localhost:8080/"
        },
        "id": "06k8m8imdyxu",
        "outputId": "1fe5c963-74b4-4174-e9f2-fb157887c437"
      },
      "execution_count": null,
      "outputs": [
        {
          "output_type": "stream",
          "name": "stderr",
          "text": [
            "<ipython-input-12-3085cc4dec49>:37: UserWarning: Implicit dimension choice for log_softmax has been deprecated. Change the call to include dim=X as an argument.\n",
            "  return F.log_softmax(x)\n"
          ]
        },
        {
          "output_type": "stream",
          "name": "stdout",
          "text": [
            "Train Epoch: 1 completed\tAverage Loss: 0.128580\n",
            "\n",
            "Test set: Average loss: 0.1159, Accuracy: 9712/10000 (97%)\n",
            "\n",
            "Train Epoch: 2 completed\tAverage Loss: 0.126595\n",
            "\n",
            "Test set: Average loss: 0.1130, Accuracy: 9734/10000 (97%)\n",
            "\n",
            "Train Epoch: 3 completed\tAverage Loss: 0.123900\n",
            "\n",
            "Test set: Average loss: 0.1083, Accuracy: 9762/10000 (98%)\n",
            "\n",
            "Train Epoch: 4 completed\tAverage Loss: 0.125407\n",
            "\n",
            "Test set: Average loss: 0.1185, Accuracy: 9708/10000 (97%)\n",
            "\n",
            "Train Epoch: 5 completed\tAverage Loss: 0.122412\n",
            "\n",
            "Test set: Average loss: 0.1059, Accuracy: 9751/10000 (98%)\n",
            "\n"
          ]
        }
      ]
    },
    {
      "cell_type": "markdown",
      "source": [
        "Last but not least, I created some code to visualise the predictions! Let's see what you worked towards. Do the mistakes the model made make sense to you?"
      ],
      "metadata": {
        "id": "oKjhgfW1fLZm"
      }
    },
    {
      "cell_type": "code",
      "source": [
        "# Set model to evaluation mode\n",
        "model.eval()\n",
        "\n",
        "# Disable gradients for inference\n",
        "with torch.no_grad():\n",
        "    # Get a batch of test data\n",
        "    dataiter = iter(test_loader)\n",
        "    images, labels = next(dataiter)\n",
        "\n",
        "    # Make predictions\n",
        "    images = images.to(device)\n",
        "    outputs = model(images)\n",
        "    _, predicted = torch.max(outputs, 1)\n",
        "\n",
        "    # Move data back to CPU for plotting\n",
        "    images = images.cpu()\n",
        "    predicted = predicted.cpu()\n",
        "\n",
        "    # Create a figure\n",
        "    plt.figure(figsize=(12, 12))\n",
        "\n",
        "    # Plot up to num_rows*num_cols images\n",
        "    num_images = min(25, len(images))\n",
        "\n",
        "    for i in range(25):\n",
        "        # Get the correct subplot\n",
        "        plt.subplot(5, 5, i + 1)\n",
        "\n",
        "        # Display the image\n",
        "        # Note: Adjust the following line based on your specific dataset\n",
        "        # For MNIST:\n",
        "        plt.imshow(images[i].squeeze(), cmap='gray')\n",
        "        # For RGB images:\n",
        "        # plt.imshow(np.transpose(images[i], (1, 2, 0)))\n",
        "\n",
        "        # Add title showing prediction and actual label\n",
        "        plt.title(f'Pred: {predicted[i]}\\nTrue: {labels[i]}',\n",
        "                  color=('green' if predicted[i] == labels[i] else 'red'))\n",
        "\n",
        "        # Turn off axis\n",
        "        plt.axis('off')\n",
        "\n",
        "    plt.tight_layout()\n",
        "    plt.show()\n",
        "\n"
      ],
      "metadata": {
        "colab": {
          "base_uri": "https://localhost:8080/",
          "height": 1000
        },
        "id": "eb6MKIgYeDmI",
        "outputId": "2d910aa4-771c-4f60-bfc5-68825e177b2c"
      },
      "execution_count": null,
      "outputs": [
        {
          "output_type": "stream",
          "name": "stderr",
          "text": [
            "<ipython-input-12-3085cc4dec49>:37: UserWarning: Implicit dimension choice for log_softmax has been deprecated. Change the call to include dim=X as an argument.\n",
            "  return F.log_softmax(x)\n"
          ]
        },
        {
          "output_type": "display_data",
          "data": {
            "text/plain": [
              "<Figure size 1200x1200 with 25 Axes>"
            ],
            "image/png": "[encoded data removed]"
          },
          "metadata": {}
        }
      ]
    },
    {
      "cell_type": "markdown",
      "source": [
        "# **Solutions**\n",
        "\n",
        "\n",
        "\n",
        "```\n",
        "class CNN(nn.Module):\n",
        "    def __init__(self):\n",
        "        super(CNN, self).__init__()\n",
        "        #input channel 1, output channel 10\n",
        "        self.conv1 = nn.Conv2d(1, 10, kernel_size=5, stride=1)\n",
        "        #input channel 10, output channel 20\n",
        "        self.conv2 = nn.Conv2d(10, 20, kernel_size=5, stride=1)\n",
        "        #dropout layer\n",
        "        self.conv2_drop = nn.Dropout2d()\n",
        "        #fully connected layer\n",
        "        self.fc1 = nn.Linear(320, 50)\n",
        "        self.fc2 = nn.Linear(50, 10)\n",
        "    def forward(self, x):\n",
        "        x = self.conv1(x)\n",
        "        x = F.max_pool2d(x, 2)\n",
        "        x = F.relu(x)\n",
        "        x = self.conv2(x)\n",
        "        x = self.conv2_drop(x)\n",
        "        x = F.max_pool2d(x, 2)\n",
        "        x = F.relu(x)\n",
        "        x = x.view(-1, 320)\n",
        "        x = self.fc1(x)\n",
        "        x = F.relu(x)\n",
        "        x = F.dropout(x)\n",
        "        x = self.fc2(x)\n",
        "        return F.log_softmax(x, dim=-1)\n",
        "\n",
        "\n",
        "correct += pred.eq(target.view_as(pred)).sum().item()```\n",
        "\n"
      ],
      "metadata": {
        "id": "RxRPBJ8Jf5PP"
      }
    }
  ]
}